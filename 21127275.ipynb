{
 "cells": [
  {
   "cell_type": "markdown",
   "id": "dd06f8c5",
   "metadata": {},
   "source": [
    "### Student ID: 21127275\n",
    "### Fullname: Võ Thanh Hiệp"
   ]
  },
  {
   "cell_type": "markdown",
   "id": "dbb62018",
   "metadata": {},
   "source": [
    "### Problem a\n",
    "For the reason that the classroms of the building I have exactly 4 states. So we have **a state set** $S = \\{1, 2, 3, 4\\}$ and **an one-step transition matrix P** is a square matrix with 4 columns corresponding the current states and 4 rows corresponding the next states.\n",
    "\n",
    "**In the state set S, we have:**\n",
    " - State 1: \"Classroom facilities are of good quality\" as \"CSVC của phòng học có chất lượng tốt\"\n",
    " - State 2: \"Classroom facilities are of fair quality\" as \"CSVC của phòng học có chất lượng khá\"\n",
    " - State 3: \"Classroom facilities are of average quality\" as \"CSVC của phòng học có chất lượng trung bình\"\n",
    " - State 4: \"Classroom facilities are of poor quality\" as \"CSVC của phòng học có chất lượng xấu\"\n",
    " \n",
    "**Analyzing and Building the one-step transition matrix P:**\n",
    "- Over a year, the facility of a room cannot decrease more than a degree, so the $P_{ij}$ (with $i - j > 1$) must equal to 0. We have $P_{31} = P_{41} = P_{42} = 0$.\n",
    "- The room's facility cannot increase degree without maintenence. For this reason, the $P_{ij}$ (with $i < j$) must equal to 0. We have $P_{12} = P_{13} = P_{14} = P_{23} = P_{24} = P_{34} = 0$.\n",
    "- With the good quality, there were 34 classrom facilities were of good quality in 2020, but it decreased to 26 in 2021. So there were 26 rooms maintained the state 1 and 8 rooms decreased to the state 2. We have $P_{11} = \\frac{26}{34}$ and $P_{12} = \\frac{8}{34}$.\n",
    "- The room which is poor quality so it still maintain the state stably. We have $P_{44} = 1$.\n",
    "- In the year 2020, there were only a room is of poor quality, but it experienced a increase in 2021, which equals to 2. So there were a room, which was in state 3 in 2020, changed to state 4 in 2024. Moreover, in 2020, the number average quality room facilities was 3 so we have $P_{34} = \\frac{1}{3}$ and $P_{33} = \\frac{2}{3}$.\n",
    "- For the classroom facilities are of average quality, there were 3 rooms which were of average quality in 2020, a rom changed to state 4 in 2021 and there were 5 rooms were at state 3 in 2021. So the number of rooms which were at state 2 in 2020 and changed to state 3 in 2021 is 5 - (3 - 1) = 3. Furthermore, in 2020, there were 12 rooms had fair quality of facility, we have $P_{23} = \\frac{3}{12}$. For the last cell equals to $12 - 3 = 9$, so $P_{22} = \\frac{9}{12}$.\n",
    " \n",
    "**Therefore, the one-step transition matrix P has the form:**\n",
    "<center>\n",
    "    $\n",
    "    P = \n",
    "    \\begin{pmatrix}\n",
    "    \\frac{26}{34} & 0 & 0 & 0  \\\\\n",
    "    \\frac{8}{34} & \\frac{9}{12} & 0 & 0 \\\\\n",
    "    0 & \\frac{3}{12} & \\frac{2}{3} & 0 \\\\\n",
    "    0 & 0 & \\frac{1}{3} & 1\n",
    "    \\end{pmatrix}\n",
    "    $\n",
    "</center>\n",
    "\n",
    "**Checking the matrix P above:**\n",
    "<center>\n",
    "    $\\frac{26}{34} + \\frac{8}{34} = \\frac{9}{12} + \\frac{3}{12} = \\frac{2}{3} + \\frac{1}{3} = 1$\n",
    "</center>\n",
    "So the transition matrix P satisfies that the sum of a columns equal to 1."
   ]
  },
  {
   "cell_type": "code",
   "execution_count": 1,
   "id": "6c00a3ca",
   "metadata": {},
   "outputs": [
    {
     "data": {
      "text/plain": [
       "[[0.7647058823529411, 0, 0, 0],\n",
       " [0.23529411764705882, 0.75, 0, 0],\n",
       " [0, 0.25, 0.6666666666666666, 0],\n",
       " [0, 0, 0.3333333333333333, 1]]"
      ]
     },
     "execution_count": 1,
     "metadata": {},
     "output_type": "execute_result"
    }
   ],
   "source": [
    "P = [[26/34, 0, 0, 0],\n",
    "    [8/34, 9/12, 0, 0],\n",
    "    [0, 3/12, 2/3, 0],\n",
    "    [0, 0, 1/3, 1]]\n",
    "\n",
    "P"
   ]
  },
  {
   "cell_type": "markdown",
   "id": "d00e9262",
   "metadata": {},
   "source": [
    "### Problem b\n",
    "In the year 2021, there were 26 rooms were of good quality, 17 rooms were of fair quality, 5 rooms were of average quality, and 2 rooms of poor quality. So the $\\pi_0$ is:\n",
    "<center>\n",
    "    $\n",
    "    \\pi_0 = \n",
    "    \\begin{pmatrix}\n",
    "    26  \\\\\n",
    "    17 \\\\\n",
    "    5 \\\\\n",
    "    2\n",
    "    \\end{pmatrix}\n",
    "    $\n",
    "</center>"
   ]
  },
  {
   "cell_type": "code",
   "execution_count": 2,
   "id": "ab9fbf75",
   "metadata": {},
   "outputs": [
    {
     "data": {
      "text/plain": [
       "[[26], [17], [5], [2]]"
      ]
     },
     "execution_count": 2,
     "metadata": {},
     "output_type": "execute_result"
    }
   ],
   "source": [
    "pi_0 = [[26],[17],[5],[2]]\n",
    "\n",
    "pi_0"
   ]
  },
  {
   "cell_type": "markdown",
   "id": "8cb8c722",
   "metadata": {},
   "source": [
    "### Problem c"
   ]
  },
  {
   "cell_type": "code",
   "execution_count": 3,
   "id": "d8d37567",
   "metadata": {},
   "outputs": [],
   "source": [
    "# checking whether 2 matrix can multiple with each other\n",
    "def isValidToMultiple(A, B):\n",
    "    columnA = len(A[0])\n",
    "    rowB = len(B)\n",
    "    \n",
    "    if columnA == rowB:\n",
    "        return True\n",
    "    return False\n",
    "\n",
    "# calculating dot product of 2 vectors\n",
    "def dotProduct(fVector, sVector):\n",
    "    if len(fVector) != len(sVector):\n",
    "        return \"Cannot dot\"\n",
    "    \n",
    "    result = 0\n",
    "    for i in range(len(fVector)):\n",
    "        result += fVector[i] * sVector[i]\n",
    "        \n",
    "    return result\n",
    "\n",
    "# getting the column from a matrix in a particular position\n",
    "def getColumn(Matrix, pColumn):\n",
    "    if type(Matrix[0]) is not list:\n",
    "        return Matrix[pColumn]\n",
    "    \n",
    "    nCol = len(Matrix[0])\n",
    "    if pColumn > nCol:\n",
    "        return 'Invalid! Column position is not exists'\n",
    "    \n",
    "    row = len(Matrix)\n",
    "    result = []\n",
    "    for i in range(row):\n",
    "        result.append(Matrix[i][pColumn])\n",
    "        \n",
    "    return result\n",
    "\n",
    "# multipling 2 matrixs\n",
    "def multiple2Matrixs(A, B):\n",
    "    if isValidToMultiple(A, B) == False:\n",
    "        return 'Invalid! Cannot multiple'\n",
    "    \n",
    "    result = []\n",
    "    row = len(A)\n",
    "    column = len(B[0]) if type(B[0]) is list else len(B)\n",
    "    \n",
    "    for i in range(row):\n",
    "        line = []\n",
    "        for j in range(column):\n",
    "            columnB = getColumn(B, j)\n",
    "            line.append(dotProduct(A[i], columnB))\n",
    "        result.append(line)\n",
    "        \n",
    "    return result"
   ]
  },
  {
   "cell_type": "code",
   "execution_count": 4,
   "id": "ae62e888",
   "metadata": {},
   "outputs": [],
   "source": [
    "# transposing the matrix\n",
    "def transposeMatrix(matrix):\n",
    "    if type(matrix[0]) is not list:\n",
    "        transpose_matrix = []\n",
    "        for i in range(len(matrix)):\n",
    "            transpose_matrix.append([matrix[i]])\n",
    "        return transpose_matrix\n",
    "    \n",
    "    nRow = len(matrix)\n",
    "    nCol = len(matrix[0])\n",
    "    transpose_matrix = []\n",
    "    \n",
    "    if nCol == 1:\n",
    "        for i in range(nRow):\n",
    "            transpose_matrix.append(matrix[i][0])\n",
    "        return transpose_matrix\n",
    "    \n",
    "    for i in range(nCol):\n",
    "        line = []\n",
    "        for j in range(nRow):\n",
    "            line.append(matrix[j][i])\n",
    "        transpose_matrix.append(line)\n",
    "            \n",
    "    return transpose_matrix"
   ]
  },
  {
   "cell_type": "code",
   "execution_count": 5,
   "id": "fb2671c8",
   "metadata": {},
   "outputs": [],
   "source": [
    "import math\n",
    "\n",
    "# round a float to an integer\n",
    "def custom_round(number: float) -> int:\n",
    "    if number - math.floor(number) >= 0.5:\n",
    "        return math.ceil(number)\n",
    "    else:\n",
    "        return math.floor(number)\n",
    "    \n",
    "# round all float elements of a year to integers and the years aslo a state pi\n",
    "def roundAYear(a_year):\n",
    "    #print(a_year)\n",
    "    result = []\n",
    "    different = 50\n",
    "    for i in a_year:\n",
    "        integer = custom_round(i)\n",
    "        different -= integer\n",
    "        result.append(integer)\n",
    "        \n",
    "    result[-1] += different\n",
    "    return result"
   ]
  },
  {
   "cell_type": "code",
   "execution_count": 6,
   "id": "3673c0d8",
   "metadata": {},
   "outputs": [
    {
     "name": "stdout",
     "output_type": "stream",
     "text": [
      "Year | State 1 | State 2 | State 3 | State 4 |\n",
      "2021: 26 | 17 | 5 | 2 |\n",
      "2022: 20 | 19 | 8 | 3 |\n",
      "2023: 15 | 19 | 10 | 6 |\n",
      "2024: 12 | 18 | 11 | 9 |\n",
      "2025: 9 | 16 | 12 | 13 |\n",
      "2026: 7 | 14 | 12 | 17 |\n",
      "2027: 5 | 12 | 11 | 22 |\n",
      "2028: 4 | 10 | 11 | 25 |\n",
      "2029: 3 | 9 | 10 | 28 |\n",
      "2030: 2 | 7 | 9 | 32 |\n",
      "2031: 2 | 6 | 8 | 34 |\n",
      "2032: 1 | 5 | 7 | 37 |\n",
      "2033: 1 | 4 | 6 | 39 |\n",
      "2034: 1 | 3 | 5 | 41 |\n",
      "2035: 1 | 3 | 4 | 42 |\n"
     ]
    }
   ],
   "source": [
    "pi_list = [pi_0]\n",
    "table = [transposeMatrix(pi_0)]\n",
    "\n",
    "for i in range(14): # 15 - 1\n",
    "    pi_next = multiple2Matrixs(P, pi_list[i])\n",
    "    pi_list.append(pi_next)\n",
    "    \n",
    "    table.append(roundAYear(transposeMatrix(pi_next)))\n",
    "\n",
    "print('Year | State 1 | State 2 | State 3 | State 4 |')\n",
    "for i in range(len(table)):\n",
    "    print(f\"{2021+i}: {table[i][0]} | {table[i][1]} | {table[i][2]} | {table[i][3]} |\")"
   ]
  },
  {
   "cell_type": "markdown",
   "id": "b06429be",
   "metadata": {},
   "source": [
    "| Year | State 1   | State 2   | State 3   | State 4   |\n",
    "|------------|-----|-----|-----|-----|\n",
    "|2021| 26 | 17 | 5 | 2|\n",
    "|2022| 20 | 19 | 8 | 3|\n",
    "|2023| 15 | 19 | 10 | 6|\n",
    "|2024| 12 | 18 | 11 | 9|\n",
    "|2025| 9 | 16 | 12 | 13|\n",
    "|2026| 7 | 14 | 12 | 17|\n",
    "|2027| 5 | 12 | 11 | 22|\n",
    "|2028| 4 | 10 | 11 | 25|\n",
    "|2029| 3 | 9 | 10 | 28|\n",
    "|2030| 2 | 7 | 9 | 32|\n",
    "|2031| 2 | 6 | 8 | 34|\n",
    "|2032| 1 | 5 | 7 | 37|\n",
    "|2033| 1 | 4 | 6 | 39|\n",
    "|2034| 1 | 3 | 5 | 41|\n",
    "|2035| 1 | 3 | 4 | 42|"
   ]
  },
  {
   "cell_type": "markdown",
   "id": "0c55d49e",
   "metadata": {},
   "source": [
    "### Problem d"
   ]
  },
  {
   "cell_type": "markdown",
   "id": "e09c9440",
   "metadata": {},
   "source": [
    "The year of the building I must be destroyed to rebuild is when the number of classroom facilities are of poor quality is 50 and others are 0. It also means that the last pi equals to (0, 0, 0, 50).\n",
    "<center>\n",
    "    $\n",
    "    \\pi_{last} = \n",
    "    \\begin{pmatrix}\n",
    "    0  \\\\\n",
    "    0 \\\\\n",
    "    0 \\\\\n",
    "    50\n",
    "    \\end{pmatrix}\n",
    "    $\n",
    "</center>"
   ]
  },
  {
   "cell_type": "code",
   "execution_count": 7,
   "id": "5133d597",
   "metadata": {},
   "outputs": [
    {
     "name": "stdout",
     "output_type": "stream",
     "text": [
      "Year | State 1 | State 2 | State 3 | State 4 |\n",
      "2021: 26 | 17 | 5 | 2 |\n",
      "2022: 20 | 19 | 8 | 3 |\n",
      "2023: 15 | 19 | 10 | 6 |\n",
      "2024: 12 | 18 | 11 | 9 |\n",
      "2025: 9 | 16 | 12 | 13 |\n",
      "2026: 7 | 14 | 12 | 17 |\n",
      "2027: 5 | 12 | 11 | 22 |\n",
      "2028: 4 | 10 | 11 | 25 |\n",
      "2029: 3 | 9 | 10 | 28 |\n",
      "2030: 2 | 7 | 9 | 32 |\n",
      "2031: 2 | 6 | 8 | 34 |\n",
      "2032: 1 | 5 | 7 | 37 |\n",
      "2033: 1 | 4 | 6 | 39 |\n",
      "2034: 1 | 3 | 5 | 41 |\n",
      "2035: 1 | 3 | 4 | 42 |\n",
      "2036: 0 | 2 | 3 | 45 |\n",
      "2037: 0 | 2 | 3 | 45 |\n",
      "2038: 0 | 1 | 2 | 47 |\n",
      "2039: 0 | 1 | 2 | 47 |\n",
      "2040: 0 | 1 | 1 | 48 |\n",
      "2041: 0 | 1 | 1 | 48 |\n",
      "2042: 0 | 1 | 1 | 48 |\n",
      "2043: 0 | 0 | 1 | 49 |\n",
      "2044: 0 | 0 | 1 | 49 |\n",
      "2045: 0 | 0 | 1 | 49 |\n",
      "2046: 0 | 0 | 0 | 50 |\n"
     ]
    }
   ],
   "source": [
    "nYears = len(table)\n",
    "\n",
    "while table[nYears - 1][3] != 50:\n",
    "    pi_next = multiple2Matrixs(P, pi_list[nYears - 1])\n",
    "    pi_list.append(pi_next)\n",
    "    \n",
    "    table.append(roundAYear(transposeMatrix(pi_next)))\n",
    "    nYears += 1\n",
    "    \n",
    "print('Year | State 1 | State 2 | State 3 | State 4 |')\n",
    "for i in range(len(table)):\n",
    "    print(f\"{2021+i}: {table[i][0]} | {table[i][1]} | {table[i][2]} | {table[i][3]} |\")"
   ]
  },
  {
   "cell_type": "markdown",
   "id": "f4dd69fa",
   "metadata": {},
   "source": [
    "According to the result above, the building I should be rebuilded in the year 2046."
   ]
  },
  {
   "cell_type": "markdown",
   "id": "803e3219",
   "metadata": {},
   "source": [
    "### Problem e\n",
    "The age of the building I = 2046 - 2000 = 46 (years)"
   ]
  }
 ],
 "metadata": {
  "kernelspec": {
   "display_name": "Python 3 (ipykernel)",
   "language": "python",
   "name": "python3"
  },
  "language_info": {
   "codemirror_mode": {
    "name": "ipython",
    "version": 3
   },
   "file_extension": ".py",
   "mimetype": "text/x-python",
   "name": "python",
   "nbconvert_exporter": "python",
   "pygments_lexer": "ipython3",
   "version": "3.11.7"
  }
 },
 "nbformat": 4,
 "nbformat_minor": 5
}
